{
  "nbformat": 4,
  "nbformat_minor": 0,
  "metadata": {
    "colab": {
      "name": "DIYAN.ipynb",
      "provenance": [],
      "authorship_tag": "ABX9TyMbkNVQQCNfHBRDTwonCfJF",
      "include_colab_link": true
    },
    "kernelspec": {
      "name": "python3",
      "display_name": "Python 3"
    },
    "language_info": {
      "name": "python"
    }
  },
  "cells": [
    {
      "cell_type": "markdown",
      "metadata": {
        "id": "view-in-github",
        "colab_type": "text"
      },
      "source": [
        "<a href=\"https://colab.research.google.com/github/skywalker0803r/DIAYN/blob/main/DIYAN.ipynb\" target=\"_parent\"><img src=\"https://colab.research.google.com/assets/colab-badge.svg\" alt=\"Open In Colab\"/></a>"
      ]
    },
    {
      "cell_type": "code",
      "metadata": {
        "id": "vzZ2-Kk8i5kl"
      },
      "source": [
        "num_skills = 2\n",
        "total_timesteps = 30000\n",
        "env_name = \"BipedalWalker-v3\""
      ],
      "execution_count": 1,
      "outputs": []
    },
    {
      "cell_type": "code",
      "metadata": {
        "id": "qqU3gWYRjH-H"
      },
      "source": [
        "!pip install stable_baselines3 >log.txt"
      ],
      "execution_count": 2,
      "outputs": []
    },
    {
      "cell_type": "code",
      "metadata": {
        "id": "1HeCLv67jXEJ",
        "outputId": "f6948cc6-c9f1-4630-e5bf-b0cb623802d1",
        "colab": {
          "base_uri": "https://localhost:8080/"
        }
      },
      "source": [
        "!pip install box2d-py"
      ],
      "execution_count": 3,
      "outputs": [
        {
          "output_type": "stream",
          "text": [
            "Requirement already satisfied: box2d-py in /usr/local/lib/python3.7/dist-packages (2.3.8)\n"
          ],
          "name": "stdout"
        }
      ]
    },
    {
      "cell_type": "code",
      "metadata": {
        "id": "HLQKtP_knWc_"
      },
      "source": [
        "!apt-get install -y xvfb python-opengl > /dev/null 2>&1"
      ],
      "execution_count": 4,
      "outputs": []
    },
    {
      "cell_type": "code",
      "metadata": {
        "id": "4xVBXcMznYsn"
      },
      "source": [
        "!pip install gym pyvirtualdisplay > /dev/null 2>&1"
      ],
      "execution_count": 5,
      "outputs": []
    },
    {
      "cell_type": "code",
      "metadata": {
        "id": "SKbYgulVZIKN",
        "outputId": "5d29a868-e9b7-4ce5-832f-4471fd626bb7",
        "colab": {
          "base_uri": "https://localhost:8080/"
        }
      },
      "source": [
        "!apt install ffmpeg"
      ],
      "execution_count": 6,
      "outputs": [
        {
          "output_type": "stream",
          "text": [
            "Reading package lists... Done\n",
            "Building dependency tree       \n",
            "Reading state information... Done\n",
            "ffmpeg is already the newest version (7:3.4.8-0ubuntu0.2).\n",
            "0 upgraded, 0 newly installed, 0 to remove and 39 not upgraded.\n"
          ],
          "name": "stdout"
        }
      ]
    },
    {
      "cell_type": "code",
      "metadata": {
        "id": "EwFflj5eZIiZ",
        "outputId": "6dcd6228-3d3f-4d9a-a145-5d8287020fe0",
        "colab": {
          "base_uri": "https://localhost:8080/"
        }
      },
      "source": [
        "!pip install ffmpeg"
      ],
      "execution_count": 7,
      "outputs": [
        {
          "output_type": "stream",
          "text": [
            "Requirement already satisfied: ffmpeg in /usr/local/lib/python3.7/dist-packages (1.4)\n"
          ],
          "name": "stdout"
        }
      ]
    },
    {
      "cell_type": "code",
      "metadata": {
        "id": "dmDyGdG4i7Qi"
      },
      "source": [
        "import gym\n",
        "from gym import Wrapper,spaces\n",
        "from torch.optim import Adam\n",
        "import torch.nn.functional as F\n",
        "import random\n",
        "import numpy as np\n",
        "from stable_baselines3 import SAC\n",
        "import torch\n",
        "from torch import nn\n",
        "\n",
        "class DIAYN_Skill_Wrapper(Wrapper):\n",
        "    def __init__(self, env, num_skills):\n",
        "        Wrapper.__init__(self, env)\n",
        "        self.num_skills = num_skills\n",
        "        self.state_size = env.observation_space.shape[0]\n",
        "        self.hidden_size = 128\n",
        "        \n",
        "        # discriminator 負責 state到skill 的映射 \n",
        "        self.discriminator = nn.Sequential(\n",
        "            nn.Linear(self.state_size,self.hidden_size),\n",
        "            nn.ReLU(),\n",
        "            nn.Linear(self.hidden_size,self.hidden_size),\n",
        "            nn.ReLU(),\n",
        "            nn.Linear(self.hidden_size,self.num_skills)\n",
        "            )\n",
        "\n",
        "        # discriminator優化器\n",
        "        self.discriminator_optimizer = Adam(self.discriminator.parameters(),lr=1e-3)\n",
        "        \n",
        "        # skill的概率分布為 均勻分布\n",
        "        self.prior_probability_of_skill = 1.0 / self.num_skills\n",
        "        \n",
        "        # 在原本的狀態維度多加一個維度代表skill\n",
        "        self.observation_space = spaces.Box(low=-np.inf, high=np.inf,shape=(env.observation_space.shape[0] + 1,), dtype=np.float32)\n",
        "\n",
        "    def reset(self, **kwargs):\n",
        "        # 隨機採樣一個skill\n",
        "        observation = self.env.reset(**kwargs)\n",
        "        self.skill = random.randint(0, self.num_skills - 1)\n",
        "        return self.observation(observation)\n",
        "\n",
        "    def observation(self, observation):\n",
        "        # 狀態跟skill組合起來返回\n",
        "        return np.concatenate((np.array(observation), np.array([self.skill])))\n",
        "\n",
        "    def step(self, action):\n",
        "        # 這裡不使用原生reward\n",
        "        next_state, _, done, info = self.env.step(action)\n",
        "        # 使用一種技巧計算reward\n",
        "        new_reward, discriminator_outputs = self.calculate_new_reward(next_state)\n",
        "        # discriminator 學習預測正確的skill\n",
        "        self.disciminator_learn(self.skill, discriminator_outputs)\n",
        "        return self.observation(next_state), new_reward, done, info\n",
        "\n",
        "    def calculate_new_reward(self, next_state):\n",
        "        # 取得disciminator輸出以及在正確skill上的數值\n",
        "        probability_correct_skill, disciminator_outputs =  self.get_predicted_probability_of_skill(self.skill, next_state)\n",
        "        # 獎勵計算方式參考原始論文\n",
        "        new_reward = np.log(probability_correct_skill + 1e-8) - np.log(self.prior_probability_of_skill)\n",
        "        return new_reward, disciminator_outputs\n",
        "    \n",
        "    def disciminator_learn(self, skill, discriminator_outputs):\n",
        "        # 計算disciminator輸出對上正確skill的交叉商\n",
        "        loss = nn.CrossEntropyLoss()(discriminator_outputs, torch.Tensor([skill]).long())\n",
        "        # 把梯度求出來\n",
        "        loss.backward()\n",
        "        # 更新disciminator\n",
        "        self.discriminator_optimizer.step()\n",
        "        # 梯度清空\n",
        "        self.discriminator_optimizer.zero_grad()\n",
        "    \n",
        "    def get_predicted_probability_of_skill(self, skill, next_state):\n",
        "        # discriminator 根據next_state預測可能的skill\n",
        "        predicted_probabilities_unnormalised = self.discriminator(torch.Tensor(next_state).unsqueeze(0))\n",
        "        # 正確的skill的概率\n",
        "        probability_of_correct_skill = F.softmax(predicted_probabilities_unnormalised,dim=-1)[:, skill]\n",
        "        return  probability_of_correct_skill.item(), predicted_probabilities_unnormalised\n",
        "    \n"
      ],
      "execution_count": 8,
      "outputs": []
    },
    {
      "cell_type": "code",
      "metadata": {
        "id": "MQ4SzvjNjAKD"
      },
      "source": [
        "import gym\n",
        "from stable_baselines3 import SAC\n",
        "\n",
        "def train():\n",
        "    env = gym.make(env_name)\n",
        "    env = DIAYN_Skill_Wrapper(env,num_skills=num_skills)\n",
        "    agent = SAC(\n",
        "        \"MlpPolicy\", \n",
        "        env, \n",
        "        verbose=1,\n",
        "        tensorboard_log=\"./tensorboard\"\n",
        "        )\n",
        "    agent.learn(total_timesteps=total_timesteps)\n",
        "    agent.save(f\"sac_{env_name}\")"
      ],
      "execution_count": 9,
      "outputs": []
    },
    {
      "cell_type": "code",
      "metadata": {
        "colab": {
          "base_uri": "https://localhost:8080/"
        },
        "id": "AQXSeXrcjDPl",
        "outputId": "9f425600-2c10-4495-8f02-61aba51a3772"
      },
      "source": [
        "train()"
      ],
      "execution_count": 10,
      "outputs": [
        {
          "output_type": "stream",
          "text": [
            "/usr/local/lib/python3.7/dist-packages/gym/logger.py:30: UserWarning: \u001b[33mWARN: Box bound precision lowered by casting to float32\u001b[0m\n",
            "  warnings.warn(colorize('%s: %s'%('WARN', msg % args), 'yellow'))\n"
          ],
          "name": "stderr"
        },
        {
          "output_type": "stream",
          "text": [
            "Using cpu device\n",
            "Wrapping the env with a `Monitor` wrapper\n",
            "Wrapping the env in a DummyVecEnv.\n",
            "Logging to ./tensorboard/SAC_5\n",
            "---------------------------------\n",
            "| rollout/           |          |\n",
            "|    ep_len_mean     | 457      |\n",
            "|    ep_rew_mean     | 291      |\n",
            "| time/              |          |\n",
            "|    episodes        | 4        |\n",
            "|    fps             | 42       |\n",
            "|    time_elapsed    | 43       |\n",
            "|    total timesteps | 1828     |\n",
            "| train/             |          |\n",
            "|    actor_loss      | -22.3    |\n",
            "|    critic_loss     | 0.12     |\n",
            "|    ent_coef        | 0.596    |\n",
            "|    ent_coef_loss   | -3.48    |\n",
            "|    learning_rate   | 0.0003   |\n",
            "|    n_updates       | 1727     |\n",
            "---------------------------------\n",
            "---------------------------------\n",
            "| rollout/           |          |\n",
            "|    ep_len_mean     | 456      |\n",
            "|    ep_rew_mean     | 282      |\n",
            "| time/              |          |\n",
            "|    episodes        | 8        |\n",
            "|    fps             | 41       |\n",
            "|    time_elapsed    | 87       |\n",
            "|    total timesteps | 3649     |\n",
            "| train/             |          |\n",
            "|    actor_loss      | -33      |\n",
            "|    critic_loss     | 0.251    |\n",
            "|    ent_coef        | 0.348    |\n",
            "|    ent_coef_loss   | -6.83    |\n",
            "|    learning_rate   | 0.0003   |\n",
            "|    n_updates       | 3548     |\n",
            "---------------------------------\n",
            "---------------------------------\n",
            "| rollout/           |          |\n",
            "|    ep_len_mean     | 462      |\n",
            "|    ep_rew_mean     | 288      |\n",
            "| time/              |          |\n",
            "|    episodes        | 12       |\n",
            "|    fps             | 41       |\n",
            "|    time_elapsed    | 133      |\n",
            "|    total timesteps | 5547     |\n",
            "| train/             |          |\n",
            "|    actor_loss      | -41.6    |\n",
            "|    critic_loss     | 0.277    |\n",
            "|    ent_coef        | 0.198    |\n",
            "|    ent_coef_loss   | -10.1    |\n",
            "|    learning_rate   | 0.0003   |\n",
            "|    n_updates       | 5446     |\n",
            "---------------------------------\n",
            "---------------------------------\n",
            "| rollout/           |          |\n",
            "|    ep_len_mean     | 386      |\n",
            "|    ep_rew_mean     | 234      |\n",
            "| time/              |          |\n",
            "|    episodes        | 16       |\n",
            "|    fps             | 41       |\n",
            "|    time_elapsed    | 148      |\n",
            "|    total timesteps | 6179     |\n",
            "| train/             |          |\n",
            "|    actor_loss      | -43.1    |\n",
            "|    critic_loss     | 0.351    |\n",
            "|    ent_coef        | 0.165    |\n",
            "|    ent_coef_loss   | -10.7    |\n",
            "|    learning_rate   | 0.0003   |\n",
            "|    n_updates       | 6078     |\n",
            "---------------------------------\n",
            "---------------------------------\n",
            "| rollout/           |          |\n",
            "|    ep_len_mean     | 397      |\n",
            "|    ep_rew_mean     | 244      |\n",
            "| time/              |          |\n",
            "|    episodes        | 20       |\n",
            "|    fps             | 41       |\n",
            "|    time_elapsed    | 191      |\n",
            "|    total timesteps | 7947     |\n",
            "| train/             |          |\n",
            "|    actor_loss      | -46.8    |\n",
            "|    critic_loss     | 0.48     |\n",
            "|    ent_coef        | 0.1      |\n",
            "|    ent_coef_loss   | -12.2    |\n",
            "|    learning_rate   | 0.0003   |\n",
            "|    n_updates       | 7846     |\n",
            "---------------------------------\n",
            "---------------------------------\n",
            "| rollout/           |          |\n",
            "|    ep_len_mean     | 407      |\n",
            "|    ep_rew_mean     | 252      |\n",
            "| time/              |          |\n",
            "|    episodes        | 24       |\n",
            "|    fps             | 41       |\n",
            "|    time_elapsed    | 235      |\n",
            "|    total timesteps | 9761     |\n",
            "| train/             |          |\n",
            "|    actor_loss      | -49.3    |\n",
            "|    critic_loss     | 0.439    |\n",
            "|    ent_coef        | 0.0613   |\n",
            "|    ent_coef_loss   | -12      |\n",
            "|    learning_rate   | 0.0003   |\n",
            "|    n_updates       | 9660     |\n",
            "---------------------------------\n",
            "---------------------------------\n",
            "| rollout/           |          |\n",
            "|    ep_len_mean     | 466      |\n",
            "|    ep_rew_mean     | 296      |\n",
            "| time/              |          |\n",
            "|    episodes        | 28       |\n",
            "|    fps             | 41       |\n",
            "|    time_elapsed    | 315      |\n",
            "|    total timesteps | 13062    |\n",
            "| train/             |          |\n",
            "|    actor_loss      | -55.1    |\n",
            "|    critic_loss     | 0.626    |\n",
            "|    ent_coef        | 0.0293   |\n",
            "|    ent_coef_loss   | -7.2     |\n",
            "|    learning_rate   | 0.0003   |\n",
            "|    n_updates       | 12961    |\n",
            "---------------------------------\n",
            "---------------------------------\n",
            "| rollout/           |          |\n",
            "|    ep_len_mean     | 436      |\n",
            "|    ep_rew_mean     | 277      |\n",
            "| time/              |          |\n",
            "|    episodes        | 32       |\n",
            "|    fps             | 41       |\n",
            "|    time_elapsed    | 336      |\n",
            "|    total timesteps | 13957    |\n",
            "| train/             |          |\n",
            "|    actor_loss      | -55.9    |\n",
            "|    critic_loss     | 0.534    |\n",
            "|    ent_coef        | 0.0247   |\n",
            "|    ent_coef_loss   | -3.78    |\n",
            "|    learning_rate   | 0.0003   |\n",
            "|    n_updates       | 13856    |\n",
            "---------------------------------\n",
            "---------------------------------\n",
            "| rollout/           |          |\n",
            "|    ep_len_mean     | 394      |\n",
            "|    ep_rew_mean     | 247      |\n",
            "| time/              |          |\n",
            "|    episodes        | 36       |\n",
            "|    fps             | 41       |\n",
            "|    time_elapsed    | 342      |\n",
            "|    total timesteps | 14202    |\n",
            "| train/             |          |\n",
            "|    actor_loss      | -55.3    |\n",
            "|    critic_loss     | 0.799    |\n",
            "|    ent_coef        | 0.0237   |\n",
            "|    ent_coef_loss   | -0.822   |\n",
            "|    learning_rate   | 0.0003   |\n",
            "|    n_updates       | 14101    |\n",
            "---------------------------------\n",
            "---------------------------------\n",
            "| rollout/           |          |\n",
            "|    ep_len_mean     | 438      |\n",
            "|    ep_rew_mean     | 280      |\n",
            "| time/              |          |\n",
            "|    episodes        | 40       |\n",
            "|    fps             | 41       |\n",
            "|    time_elapsed    | 423      |\n",
            "|    total timesteps | 17533    |\n",
            "| train/             |          |\n",
            "|    actor_loss      | -60.1    |\n",
            "|    critic_loss     | 1.4      |\n",
            "|    ent_coef        | 0.0184   |\n",
            "|    ent_coef_loss   | -0.304   |\n",
            "|    learning_rate   | 0.0003   |\n",
            "|    n_updates       | 17432    |\n",
            "---------------------------------\n",
            "---------------------------------\n",
            "| rollout/           |          |\n",
            "|    ep_len_mean     | 432      |\n",
            "|    ep_rew_mean     | 277      |\n",
            "| time/              |          |\n",
            "|    episodes        | 44       |\n",
            "|    fps             | 41       |\n",
            "|    time_elapsed    | 459      |\n",
            "|    total timesteps | 19020    |\n",
            "| train/             |          |\n",
            "|    actor_loss      | -61.3    |\n",
            "|    critic_loss     | 12.7     |\n",
            "|    ent_coef        | 0.0193   |\n",
            "|    ent_coef_loss   | -0.882   |\n",
            "|    learning_rate   | 0.0003   |\n",
            "|    n_updates       | 18919    |\n",
            "---------------------------------\n",
            "---------------------------------\n",
            "| rollout/           |          |\n",
            "|    ep_len_mean     | 438      |\n",
            "|    ep_rew_mean     | 280      |\n",
            "| time/              |          |\n",
            "|    episodes        | 48       |\n",
            "|    fps             | 41       |\n",
            "|    time_elapsed    | 507      |\n",
            "|    total timesteps | 21005    |\n",
            "| train/             |          |\n",
            "|    actor_loss      | -62.8    |\n",
            "|    critic_loss     | 0.839    |\n",
            "|    ent_coef        | 0.0197   |\n",
            "|    ent_coef_loss   | -0.962   |\n",
            "|    learning_rate   | 0.0003   |\n",
            "|    n_updates       | 20904    |\n",
            "---------------------------------\n",
            "---------------------------------\n",
            "| rollout/           |          |\n",
            "|    ep_len_mean     | 414      |\n",
            "|    ep_rew_mean     | 263      |\n",
            "| time/              |          |\n",
            "|    episodes        | 52       |\n",
            "|    fps             | 41       |\n",
            "|    time_elapsed    | 520      |\n",
            "|    total timesteps | 21552    |\n",
            "| train/             |          |\n",
            "|    actor_loss      | -64.5    |\n",
            "|    critic_loss     | 0.879    |\n",
            "|    ent_coef        | 0.0206   |\n",
            "|    ent_coef_loss   | 0.44     |\n",
            "|    learning_rate   | 0.0003   |\n",
            "|    n_updates       | 21451    |\n",
            "---------------------------------\n",
            "---------------------------------\n",
            "| rollout/           |          |\n",
            "|    ep_len_mean     | 419      |\n",
            "|    ep_rew_mean     | 267      |\n",
            "| time/              |          |\n",
            "|    episodes        | 56       |\n",
            "|    fps             | 41       |\n",
            "|    time_elapsed    | 567      |\n",
            "|    total timesteps | 23485    |\n",
            "| train/             |          |\n",
            "|    actor_loss      | -63.8    |\n",
            "|    critic_loss     | 1.33     |\n",
            "|    ent_coef        | 0.0223   |\n",
            "|    ent_coef_loss   | 0.0947   |\n",
            "|    learning_rate   | 0.0003   |\n",
            "|    n_updates       | 23384    |\n",
            "---------------------------------\n",
            "---------------------------------\n",
            "| rollout/           |          |\n",
            "|    ep_len_mean     | 425      |\n",
            "|    ep_rew_mean     | 271      |\n",
            "| time/              |          |\n",
            "|    episodes        | 60       |\n",
            "|    fps             | 41       |\n",
            "|    time_elapsed    | 615      |\n",
            "|    total timesteps | 25502    |\n",
            "| train/             |          |\n",
            "|    actor_loss      | -66.2    |\n",
            "|    critic_loss     | 1.74     |\n",
            "|    ent_coef        | 0.0282   |\n",
            "|    ent_coef_loss   | -1.6     |\n",
            "|    learning_rate   | 0.0003   |\n",
            "|    n_updates       | 25401    |\n",
            "---------------------------------\n",
            "---------------------------------\n",
            "| rollout/           |          |\n",
            "|    ep_len_mean     | 406      |\n",
            "|    ep_rew_mean     | 259      |\n",
            "| time/              |          |\n",
            "|    episodes        | 64       |\n",
            "|    fps             | 41       |\n",
            "|    time_elapsed    | 627      |\n",
            "|    total timesteps | 25994    |\n",
            "| train/             |          |\n",
            "|    actor_loss      | -67.6    |\n",
            "|    critic_loss     | 17.5     |\n",
            "|    ent_coef        | 0.027    |\n",
            "|    ent_coef_loss   | 0.575    |\n",
            "|    learning_rate   | 0.0003   |\n",
            "|    n_updates       | 25893    |\n",
            "---------------------------------\n",
            "---------------------------------\n",
            "| rollout/           |          |\n",
            "|    ep_len_mean     | 402      |\n",
            "|    ep_rew_mean     | 257      |\n",
            "| time/              |          |\n",
            "|    episodes        | 68       |\n",
            "|    fps             | 41       |\n",
            "|    time_elapsed    | 659      |\n",
            "|    total timesteps | 27356    |\n",
            "| train/             |          |\n",
            "|    actor_loss      | -66.7    |\n",
            "|    critic_loss     | 1.68     |\n",
            "|    ent_coef        | 0.0242   |\n",
            "|    ent_coef_loss   | 1.34     |\n",
            "|    learning_rate   | 0.0003   |\n",
            "|    n_updates       | 27255    |\n",
            "---------------------------------\n",
            "---------------------------------\n",
            "| rollout/           |          |\n",
            "|    ep_len_mean     | 398      |\n",
            "|    ep_rew_mean     | 255      |\n",
            "| time/              |          |\n",
            "|    episodes        | 72       |\n",
            "|    fps             | 41       |\n",
            "|    time_elapsed    | 691      |\n",
            "|    total timesteps | 28659    |\n",
            "| train/             |          |\n",
            "|    actor_loss      | -67.4    |\n",
            "|    critic_loss     | 1.13     |\n",
            "|    ent_coef        | 0.0264   |\n",
            "|    ent_coef_loss   | -0.639   |\n",
            "|    learning_rate   | 0.0003   |\n",
            "|    n_updates       | 28558    |\n",
            "---------------------------------\n"
          ],
          "name": "stdout"
        }
      ]
    },
    {
      "cell_type": "code",
      "metadata": {
        "id": "pBItAeBisT2i"
      },
      "source": [
        "import gym\n",
        "import numpy as np\n",
        "import matplotlib.pyplot as plt\n",
        "from IPython import display as ipythondisplay\n",
        "from pyvirtualdisplay import Display"
      ],
      "execution_count": 11,
      "outputs": []
    },
    {
      "cell_type": "code",
      "metadata": {
        "id": "RI1t_SW1loN3"
      },
      "source": [
        "def look_skill(skill_idx):\n",
        "  class DIAYN_Skill_Wrapper_test(DIAYN_Skill_Wrapper):\n",
        "    def observation(self, observation):\n",
        "      self.skill = skill_idx #直接指定特定技能\n",
        "      return np.concatenate((np.array(observation), np.array([self.skill])))\n",
        "  display = Display(visible=0, size=(400, 300))\n",
        "  display.start()\n",
        "  import time\n",
        "  env = gym.make(env_name)\n",
        "  env = DIAYN_Skill_Wrapper_test(env,num_skills=num_skills)\n",
        "  obs = env.reset()\n",
        "  prev_screen = env.render(mode='rgb_array')\n",
        "  plt.imshow(prev_screen)\n",
        "  model = SAC.load(f\"sac_{env_name}.zip\")\n",
        "  frames = []\n",
        "  for i in range(50):\n",
        "    print(i)\n",
        "    action, _states = model.predict(obs, deterministic=True)\n",
        "    obs, reward, done, info = env.step(action)\n",
        "    screen = env.render(mode='rgb_array')\n",
        "    frames.append(screen)\n",
        "    plt.imshow(screen)\n",
        "    ipythondisplay.clear_output(wait=True)\n",
        "    ipythondisplay.display(plt.gcf())\n",
        "    if done:\n",
        "      break\n",
        "\n",
        "  ipythondisplay.clear_output(wait=True)\n",
        "  env.close()\n",
        "  return frames"
      ],
      "execution_count": 12,
      "outputs": []
    },
    {
      "cell_type": "code",
      "metadata": {
        "colab": {
          "base_uri": "https://localhost:8080/",
          "height": 269
        },
        "id": "mJ45zOz0mMU_",
        "outputId": "c3f4a295-ee0b-45ac-e74f-5b2d9d8c58e8"
      },
      "source": [
        "skill_0_frames = look_skill(0)"
      ],
      "execution_count": 16,
      "outputs": [
        {
          "output_type": "display_data",
          "data": {
            "image/png": "[encoded data removed]",
            "text/plain": [
              "<Figure size 432x288 with 1 Axes>"
            ]
          },
          "metadata": {
            "tags": [],
            "needs_background": "light"
          }
        }
      ]
    },
    {
      "cell_type": "code",
      "metadata": {
        "colab": {
          "base_uri": "https://localhost:8080/",
          "height": 269
        },
        "id": "cAnCcuxamQZB",
        "outputId": "03b784fe-2add-4c7f-8dac-affaba8c03f7"
      },
      "source": [
        "skill_1_frames = look_skill(1)"
      ],
      "execution_count": 17,
      "outputs": [
        {
          "output_type": "display_data",
          "data": {
            "image/png": "[encoded data removed]",
            "text/plain": [
              "<Figure size 432x288 with 1 Axes>"
            ]
          },
          "metadata": {
            "tags": [],
            "needs_background": "light"
          }
        }
      ]
    }
  ]
}