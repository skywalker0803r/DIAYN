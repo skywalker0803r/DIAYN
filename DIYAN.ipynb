{
  "nbformat": 4,
  "nbformat_minor": 0,
  "metadata": {
    "colab": {
      "name": "DIYAN.ipynb",
      "provenance": [],
      "authorship_tag": "ABX9TyNeLLo3fdlY3rz9L3sKcu3D",
      "include_colab_link": true
    },
    "kernelspec": {
      "name": "python3",
      "display_name": "Python 3"
    },
    "language_info": {
      "name": "python"
    }
  },
  "cells": [
    {
      "cell_type": "markdown",
      "metadata": {
        "id": "view-in-github",
        "colab_type": "text"
      },
      "source": [
        "<a href=\"https://colab.research.google.com/github/skywalker0803r/DIAYN/blob/main/DIYAN.ipynb\" target=\"_parent\"><img src=\"https://colab.research.google.com/assets/colab-badge.svg\" alt=\"Open In Colab\"/></a>"
      ]
    },
    {
      "cell_type": "code",
      "metadata": {
        "id": "vzZ2-Kk8i5kl"
      },
      "source": [
        "num_skills = 3\n",
        "total_timesteps = 10000\n",
        "env_name = \"BipedalWalker-v3\""
      ],
      "execution_count": 5,
      "outputs": []
    },
    {
      "cell_type": "code",
      "metadata": {
        "id": "qqU3gWYRjH-H"
      },
      "source": [
        "!pip install stable_baselines3 >log.txt"
      ],
      "execution_count": 10,
      "outputs": []
    },
    {
      "cell_type": "code",
      "metadata": {
        "id": "1HeCLv67jXEJ"
      },
      "source": [
        "!pip install box2d-py"
      ],
      "execution_count": null,
      "outputs": []
    },
    {
      "cell_type": "code",
      "metadata": {
        "id": "HLQKtP_knWc_"
      },
      "source": [
        "!apt-get install -y xvfb python-opengl > /dev/null 2>&1"
      ],
      "execution_count": null,
      "outputs": []
    },
    {
      "cell_type": "code",
      "metadata": {
        "id": "4xVBXcMznYsn"
      },
      "source": [
        "!pip install gym pyvirtualdisplay > /dev/null 2>&1"
      ],
      "execution_count": null,
      "outputs": []
    },
    {
      "cell_type": "code",
      "metadata": {
        "id": "dmDyGdG4i7Qi"
      },
      "source": [
        "import gym\n",
        "from gym import Wrapper,spaces\n",
        "from torch.optim import Adam\n",
        "import torch.nn.functional as F\n",
        "import random\n",
        "import numpy as np\n",
        "from stable_baselines3 import SAC\n",
        "import torch\n",
        "from torch import nn\n",
        "\n",
        "class DIAYN_Skill_Wrapper(Wrapper):\n",
        "    def __init__(self, env, num_skills):\n",
        "        Wrapper.__init__(self, env)\n",
        "        self.num_skills = num_skills\n",
        "        self.state_size = env.observation_space.shape[0]\n",
        "        self.hidden_size = 128\n",
        "        \n",
        "        # discriminator 負責 state到skill 的映射 \n",
        "        self.discriminator = nn.Sequential(\n",
        "            nn.Linear(self.state_size,self.hidden_size),\n",
        "            nn.ReLU(),\n",
        "            nn.Linear(self.hidden_size,self.hidden_size),\n",
        "            nn.ReLU(),\n",
        "            nn.Linear(self.hidden_size,self.num_skills)\n",
        "            )\n",
        "\n",
        "        # discriminator優化器\n",
        "        self.discriminator_optimizer = Adam(self.discriminator.parameters(),lr=1e-3)\n",
        "        \n",
        "        # skill的概率分布為 均勻分布\n",
        "        self.prior_probability_of_skill = 1.0 / self.num_skills\n",
        "        \n",
        "        # 在原本的狀態維度多加一個維度代表skill\n",
        "        self.observation_space = spaces.Box(low=-np.inf, high=np.inf,shape=(env.observation_space.shape[0] + 1,), dtype=np.float32)\n",
        "\n",
        "    def reset(self, **kwargs):\n",
        "        # 隨機採樣一個skill\n",
        "        observation = self.env.reset(**kwargs)\n",
        "        self.skill = random.randint(0, self.num_skills - 1)\n",
        "        return self.observation(observation)\n",
        "\n",
        "    def observation(self, observation):\n",
        "        # 狀態跟skill組合起來返回\n",
        "        return np.concatenate((np.array(observation), np.array([self.skill])))\n",
        "\n",
        "    def step(self, action):\n",
        "        # 這裡不使用原生reward\n",
        "        next_state, _, done, info = self.env.step(action)\n",
        "        # 使用一種技巧計算reward\n",
        "        new_reward, discriminator_outputs = self.calculate_new_reward(next_state)\n",
        "        # discriminator 學習預測正確的skill\n",
        "        self.disciminator_learn(self.skill, discriminator_outputs)\n",
        "        return self.observation(next_state), new_reward, done, info\n",
        "\n",
        "    def calculate_new_reward(self, next_state):\n",
        "        # 取得disciminator輸出以及在正確skill上的數值\n",
        "        probability_correct_skill, disciminator_outputs =  self.get_predicted_probability_of_skill(self.skill, next_state)\n",
        "        # 獎勵計算方式參考原始論文\n",
        "        new_reward = np.log(probability_correct_skill + 1e-8) - np.log(self.prior_probability_of_skill)\n",
        "        return new_reward, disciminator_outputs\n",
        "    \n",
        "    def disciminator_learn(self, skill, discriminator_outputs):\n",
        "        # 計算disciminator輸出對上正確skill的交叉商\n",
        "        loss = nn.CrossEntropyLoss()(discriminator_outputs, torch.Tensor([skill]).long())\n",
        "        # 把梯度求出來\n",
        "        loss.backward()\n",
        "        # 更新disciminator\n",
        "        self.discriminator_optimizer.step()\n",
        "        # 梯度清空\n",
        "        self.discriminator_optimizer.zero_grad()\n",
        "    \n",
        "    def get_predicted_probability_of_skill(self, skill, next_state):\n",
        "        # discriminator 根據next_state預測可能的skill\n",
        "        predicted_probabilities_unnormalised = self.discriminator(torch.Tensor(next_state).unsqueeze(0))\n",
        "        # 正確的skill的概率\n",
        "        probability_of_correct_skill = F.softmax(predicted_probabilities_unnormalised,dim=-1)[:, skill]\n",
        "        return  probability_of_correct_skill.item(), predicted_probabilities_unnormalised\n",
        "    \n"
      ],
      "execution_count": 6,
      "outputs": []
    },
    {
      "cell_type": "code",
      "metadata": {
        "id": "MQ4SzvjNjAKD"
      },
      "source": [
        "import gym\n",
        "from stable_baselines3 import SAC\n",
        "\n",
        "def train():\n",
        "    env = gym.make(env_name)\n",
        "    env = DIAYN_Skill_Wrapper(env,num_skills=num_skills)\n",
        "    agent = SAC(\n",
        "        \"MlpPolicy\", \n",
        "        env, \n",
        "        verbose=1,\n",
        "        tensorboard_log=\"./tensorboard\"\n",
        "        )\n",
        "    agent.learn(total_timesteps=total_timesteps)\n",
        "    agent.save(f\"sac_{env_name}\")"
      ],
      "execution_count": 7,
      "outputs": []
    },
    {
      "cell_type": "code",
      "metadata": {
        "colab": {
          "base_uri": "https://localhost:8080/"
        },
        "id": "AQXSeXrcjDPl",
        "outputId": "6a11f6b8-13c8-4a1a-d066-006369429f60"
      },
      "source": [
        "train()"
      ],
      "execution_count": 14,
      "outputs": [
        {
          "output_type": "stream",
          "text": [
            "Using cpu device\n",
            "Wrapping the env with a `Monitor` wrapper\n",
            "Wrapping the env in a DummyVecEnv.\n",
            "Logging to ./tensorboard/SAC_2\n"
          ],
          "name": "stdout"
        },
        {
          "output_type": "stream",
          "text": [
            "/usr/local/lib/python3.7/dist-packages/gym/logger.py:30: UserWarning: \u001b[33mWARN: Box bound precision lowered by casting to float32\u001b[0m\n",
            "  warnings.warn(colorize('%s: %s'%('WARN', msg % args), 'yellow'))\n"
          ],
          "name": "stderr"
        },
        {
          "output_type": "stream",
          "text": [
            "---------------------------------\n",
            "| rollout/           |          |\n",
            "|    ep_len_mean     | 841      |\n",
            "|    ep_rew_mean     | 876      |\n",
            "| time/              |          |\n",
            "|    episodes        | 4        |\n",
            "|    fps             | 37       |\n",
            "|    time_elapsed    | 90       |\n",
            "|    total timesteps | 3364     |\n",
            "| train/             |          |\n",
            "|    actor_loss      | -39.7    |\n",
            "|    critic_loss     | 0.0671   |\n",
            "|    ent_coef        | 0.377    |\n",
            "|    ent_coef_loss   | -6.38    |\n",
            "|    learning_rate   | 0.0003   |\n",
            "|    n_updates       | 3263     |\n",
            "---------------------------------\n",
            "---------------------------------\n",
            "| rollout/           |          |\n",
            "|    ep_len_mean     | 1.21e+03 |\n",
            "|    ep_rew_mean     | 1.25e+03 |\n",
            "| time/              |          |\n",
            "|    episodes        | 8        |\n",
            "|    fps             | 36       |\n",
            "|    time_elapsed    | 267      |\n",
            "|    total timesteps | 9709     |\n",
            "| train/             |          |\n",
            "|    actor_loss      | -66.3    |\n",
            "|    critic_loss     | 0.399    |\n",
            "|    ent_coef        | 0.0641   |\n",
            "|    ent_coef_loss   | -9.7     |\n",
            "|    learning_rate   | 0.0003   |\n",
            "|    n_updates       | 9608     |\n",
            "---------------------------------\n"
          ],
          "name": "stdout"
        }
      ]
    },
    {
      "cell_type": "code",
      "metadata": {
        "id": "pBItAeBisT2i"
      },
      "source": [
        "import gym\n",
        "import numpy as np\n",
        "import matplotlib.pyplot as plt\n",
        "from IPython import display as ipythondisplay\n",
        "from pyvirtualdisplay import Display"
      ],
      "execution_count": 8,
      "outputs": []
    },
    {
      "cell_type": "code",
      "metadata": {
        "id": "RI1t_SW1loN3"
      },
      "source": [
        "def look_skill(skill_idx):\n",
        "  class DIAYN_Skill_Wrapper_test(DIAYN_Skill_Wrapper):\n",
        "    def reset(self, **kwargs):\n",
        "      observation = self.env.reset(**kwargs)\n",
        "      self.skill = 0\n",
        "      return self.observation(observation)\n",
        "  display = Display(visible=0, size=(400, 300))\n",
        "  display.start()\n",
        "  import time\n",
        "  env = gym.make(env_name)\n",
        "  env = DIAYN_Skill_Wrapper_test(env,num_skills=num_skills)\n",
        "  obs = env.reset()\n",
        "  prev_screen = env.render(mode='rgb_array')\n",
        "  plt.imshow(prev_screen)\n",
        "  model = SAC.load(f\"sac_{env_name}.zip\")\n",
        "  for i in range(50):\n",
        "    print(i)\n",
        "    action, _states = model.predict(obs, deterministic=True)\n",
        "    obs, reward, done, info = env.step(action)\n",
        "    screen = env.render(mode='rgb_array')\n",
        "    plt.imshow(screen)\n",
        "    ipythondisplay.clear_output(wait=True)\n",
        "    ipythondisplay.display(plt.gcf())\n",
        "    if done:\n",
        "      break\n",
        "\n",
        "  ipythondisplay.clear_output(wait=True)\n",
        "  env.close()"
      ],
      "execution_count": 15,
      "outputs": []
    },
    {
      "cell_type": "code",
      "metadata": {
        "colab": {
          "base_uri": "https://localhost:8080/",
          "height": 269
        },
        "id": "mJ45zOz0mMU_",
        "outputId": "9ca1abc7-3851-4913-8c7b-4b04ecb7bd9f"
      },
      "source": [
        "look_skill(0)"
      ],
      "execution_count": 14,
      "outputs": [
        {
          "output_type": "display_data",
          "data": {
            "image/png": "[encoded data removed]",
            "text/plain": [
              "<Figure size 432x288 with 1 Axes>"
            ]
          },
          "metadata": {
            "tags": [],
            "needs_background": "light"
          }
        }
      ]
    },
    {
      "cell_type": "code",
      "metadata": {
        "colab": {
          "base_uri": "https://localhost:8080/",
          "height": 286
        },
        "id": "cAnCcuxamQZB",
        "outputId": "45bf8086-b59c-4444-829b-e2c4cc5beb15"
      },
      "source": [
        "look_skill(1)"
      ],
      "execution_count": null,
      "outputs": [
        {
          "output_type": "display_data",
          "data": {
            "image/png": "[encoded data removed]",
            "text/plain": [
              "<Figure size 432x288 with 1 Axes>"
            ]
          },
          "metadata": {
            "tags": []
          }
        },
        {
          "output_type": "stream",
          "text": [
            "41\n"
          ],
          "name": "stdout"
        }
      ]
    },
    {
      "cell_type": "code",
      "metadata": {
        "id": "nkvceasypL0J"
      },
      "source": [
        ""
      ],
      "execution_count": null,
      "outputs": []
    }
  ]
}